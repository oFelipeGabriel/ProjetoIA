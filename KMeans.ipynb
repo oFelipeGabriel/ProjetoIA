{
 "cells": [
  {
   "cell_type": "code",
   "execution_count": 76,
   "metadata": {},
   "outputs": [
    {
     "data": {
      "text/html": [
       "<div>\n",
       "<style scoped>\n",
       "    .dataframe tbody tr th:only-of-type {\n",
       "        vertical-align: middle;\n",
       "    }\n",
       "\n",
       "    .dataframe tbody tr th {\n",
       "        vertical-align: top;\n",
       "    }\n",
       "\n",
       "    .dataframe thead th {\n",
       "        text-align: right;\n",
       "    }\n",
       "</style>\n",
       "<table border=\"1\" class=\"dataframe\">\n",
       "  <thead>\n",
       "    <tr style=\"text-align: right;\">\n",
       "      <th></th>\n",
       "      <th>Year</th>\n",
       "      <th>D_Area</th>\n",
       "      <th>D_AreaAcc</th>\n",
       "      <th>VR_CO2_1stOrder</th>\n",
       "      <th>VR_CO2_2ndOrder</th>\n",
       "      <th>VR_CO2_2ndOrder_fire</th>\n",
       "      <th>VR_CO2_2ndOrder_decay</th>\n",
       "      <th>VR_CH4_CO2Eq_2ndOrder_fire</th>\n",
       "      <th>VR_N2O_CO2Eq_2ndOrder_fire</th>\n",
       "      <th>SV_area_total</th>\n",
       "      <th>SV_area_cleared</th>\n",
       "      <th>SV_CO2_emission</th>\n",
       "      <th>SV_CO2_absorption</th>\n",
       "      <th>net_CO2_2ndOrder</th>\n",
       "      <th>net_CO2_1rsOrder</th>\n",
       "    </tr>\n",
       "  </thead>\n",
       "  <tbody>\n",
       "    <tr>\n",
       "      <th>0</th>\n",
       "      <td>1960</td>\n",
       "      <td>842754</td>\n",
       "      <td>842754</td>\n",
       "      <td>459</td>\n",
       "      <td>149</td>\n",
       "      <td>149</td>\n",
       "      <td>0</td>\n",
       "      <td>16</td>\n",
       "      <td>4</td>\n",
       "      <td>176978</td>\n",
       "      <td>0</td>\n",
       "      <td>0</td>\n",
       "      <td>0</td>\n",
       "      <td>149</td>\n",
       "      <td>0</td>\n",
       "    </tr>\n",
       "    <tr>\n",
       "      <th>1</th>\n",
       "      <td>1961</td>\n",
       "      <td>842754</td>\n",
       "      <td>1685508</td>\n",
       "      <td>459</td>\n",
       "      <td>247</td>\n",
       "      <td>149</td>\n",
       "      <td>98</td>\n",
       "      <td>16</td>\n",
       "      <td>4</td>\n",
       "      <td>353956</td>\n",
       "      <td>0</td>\n",
       "      <td>0</td>\n",
       "      <td>0</td>\n",
       "      <td>247</td>\n",
       "      <td>0</td>\n",
       "    </tr>\n",
       "    <tr>\n",
       "      <th>2</th>\n",
       "      <td>1962</td>\n",
       "      <td>842754</td>\n",
       "      <td>2528262</td>\n",
       "      <td>459</td>\n",
       "      <td>309</td>\n",
       "      <td>149</td>\n",
       "      <td>159</td>\n",
       "      <td>16</td>\n",
       "      <td>4</td>\n",
       "      <td>530935</td>\n",
       "      <td>0</td>\n",
       "      <td>0</td>\n",
       "      <td>0</td>\n",
       "      <td>309</td>\n",
       "      <td>0</td>\n",
       "    </tr>\n",
       "    <tr>\n",
       "      <th>3</th>\n",
       "      <td>1963</td>\n",
       "      <td>842754</td>\n",
       "      <td>3371016</td>\n",
       "      <td>459</td>\n",
       "      <td>347</td>\n",
       "      <td>149</td>\n",
       "      <td>198</td>\n",
       "      <td>16</td>\n",
       "      <td>4</td>\n",
       "      <td>707913</td>\n",
       "      <td>0</td>\n",
       "      <td>0</td>\n",
       "      <td>-3</td>\n",
       "      <td>345</td>\n",
       "      <td>3</td>\n",
       "    </tr>\n",
       "    <tr>\n",
       "      <th>4</th>\n",
       "      <td>1964</td>\n",
       "      <td>842754</td>\n",
       "      <td>4213770</td>\n",
       "      <td>459</td>\n",
       "      <td>373</td>\n",
       "      <td>149</td>\n",
       "      <td>224</td>\n",
       "      <td>16</td>\n",
       "      <td>4</td>\n",
       "      <td>884891</td>\n",
       "      <td>0</td>\n",
       "      <td>0</td>\n",
       "      <td>-6</td>\n",
       "      <td>368</td>\n",
       "      <td>6</td>\n",
       "    </tr>\n",
       "  </tbody>\n",
       "</table>\n",
       "</div>"
      ],
      "text/plain": [
       "   Year  D_Area  D_AreaAcc  VR_CO2_1stOrder  VR_CO2_2ndOrder  \\\n",
       "0  1960  842754     842754              459              149   \n",
       "1  1961  842754    1685508              459              247   \n",
       "2  1962  842754    2528262              459              309   \n",
       "3  1963  842754    3371016              459              347   \n",
       "4  1964  842754    4213770              459              373   \n",
       "\n",
       "   VR_CO2_2ndOrder_fire  VR_CO2_2ndOrder_decay  VR_CH4_CO2Eq_2ndOrder_fire  \\\n",
       "0                   149                      0                          16   \n",
       "1                   149                     98                          16   \n",
       "2                   149                    159                          16   \n",
       "3                   149                    198                          16   \n",
       "4                   149                    224                          16   \n",
       "\n",
       "   VR_N2O_CO2Eq_2ndOrder_fire  SV_area_total  SV_area_cleared  \\\n",
       "0                           4         176978                0   \n",
       "1                           4         353956                0   \n",
       "2                           4         530935                0   \n",
       "3                           4         707913                0   \n",
       "4                           4         884891                0   \n",
       "\n",
       "   SV_CO2_emission  SV_CO2_absorption  net_CO2_2ndOrder  net_CO2_1rsOrder  \n",
       "0                0                  0               149                 0  \n",
       "1                0                  0               247                 0  \n",
       "2                0                  0               309                 0  \n",
       "3                0                 -3               345                 3  \n",
       "4                0                 -6               368                 6  "
      ]
     },
     "execution_count": 76,
     "metadata": {},
     "output_type": "execute_result"
    }
   ],
   "source": [
    "#'''São disponibilizadas estimativas de 1ª Ordem (que supõe de modo simplificado que 100% das emissões ocorram \n",
    "#no momento da mudança de uso/cobertura) e de 2ª Ordem (que buscam representar o processo gradativo de liberação \n",
    "#e absorção do carbono como ocorre de fato). As estimativas de emissões de 2ª Ordem apresentam uma resposta \n",
    "#atenuada em relação a oscilações da taxa do desmatamento (aumentos e quedas), pois carregam a influência das \n",
    "#emissões históricas, isto é, dos processos de decomposição/queima da biomassa remanescente dos desmatamentos \n",
    "#ocorridos nos anos anteriores. As estimativas de 2ª Ordem representam com maior precisão e embasamento científico \n",
    "#para estudos relativos ao ciclo de carbono. As estimativas de 1ª Ordem são normalmente utilizadas para reportar \n",
    "#emissões de modo mais simples e intuitivo.'''\n",
    "\n",
    "import pandas as pd\n",
    "dados = pd.read_csv('co2.csv',sep=',')\n",
    "dados.head()"
   ]
  },
  {
   "cell_type": "code",
   "execution_count": 77,
   "metadata": {},
   "outputs": [
    {
     "data": {
      "text/plain": [
       "58"
      ]
     },
     "execution_count": 77,
     "metadata": {},
     "output_type": "execute_result"
    }
   ],
   "source": [
    "co2 = dados.iloc[:,1:15].values\n",
    "len(co2)"
   ]
  },
  {
   "cell_type": "code",
   "execution_count": 59,
   "metadata": {},
   "outputs": [],
   "source": [
    "from sklearn.cluster import KMeans"
   ]
  },
  {
   "cell_type": "code",
   "execution_count": 60,
   "metadata": {},
   "outputs": [],
   "source": [
    "kmeans = KMeans(n_clusters=3,init='random',n_init=5)"
   ]
  },
  {
   "cell_type": "code",
   "execution_count": 61,
   "metadata": {},
   "outputs": [
    {
     "data": {
      "text/plain": [
       "KMeans(algorithm='auto', copy_x=True, init='random', max_iter=300,\n",
       "    n_clusters=3, n_init=5, n_jobs=1, precompute_distances='auto',\n",
       "    random_state=None, tol=0.0001, verbose=0)"
      ]
     },
     "execution_count": 61,
     "metadata": {},
     "output_type": "execute_result"
    }
   ],
   "source": [
    "kmeans.fit(xco2)"
   ]
  },
  {
   "cell_type": "code",
   "execution_count": 62,
   "metadata": {},
   "outputs": [
    {
     "data": {
      "text/plain": [
       "array([[ 1.81398750e+06,  4.05815385e+07,  9.88500000e+02,\n",
       "         9.57437500e+02,  3.20437500e+02,  6.36375000e+02,\n",
       "         3.45000000e+01,  1.02500000e+01,  8.52212262e+06,\n",
       "         3.46654000e+05,  4.41875000e+01, -9.44375000e+01,\n",
       "         9.08062500e+02,  1.38625000e+02],\n",
       "       [ 1.06618809e+06,  1.06755463e+07,  5.80826087e+02,\n",
       "         4.67782609e+02,  1.88478261e+02,  2.79173913e+02,\n",
       "         2.02608696e+01,  5.39130435e+00,  2.24186430e+06,\n",
       "         5.11450435e+04,  5.65217391e+00, -2.32173913e+01,\n",
       "         4.51086957e+02,  2.88695652e+01],\n",
       "       [ 1.28279368e+06,  6.84192124e+07,  6.84842105e+02,\n",
       "         7.25368421e+02,  2.24789474e+02,  4.99947368e+02,\n",
       "         2.41578947e+01,  6.94736842e+00,  1.49789496e+07,\n",
       "         9.09273000e+05,  1.12210526e+02, -1.71789474e+02,\n",
       "         6.66526316e+02,  2.84000000e+02]])"
      ]
     },
     "execution_count": 62,
     "metadata": {},
     "output_type": "execute_result"
    }
   ],
   "source": [
    "kmeans.cluster_centers_"
   ]
  },
  {
   "cell_type": "code",
   "execution_count": 63,
   "metadata": {},
   "outputs": [
    {
     "data": {
      "text/plain": [
       "KMeans(algorithm='auto', copy_x=True, init='random', max_iter=300,\n",
       "    n_clusters=3, n_init=5, n_jobs=1, precompute_distances='auto',\n",
       "    random_state=None, tol=0.0001, verbose=0)"
      ]
     },
     "execution_count": 63,
     "metadata": {},
     "output_type": "execute_result"
    }
   ],
   "source": [
    "kmeans.fit(xco2)"
   ]
  },
  {
   "cell_type": "code",
   "execution_count": 64,
   "metadata": {},
   "outputs": [
    {
     "data": {
      "text/plain": [
       "array([[ 1.83690625e+06,  3.87675510e+07,  1.00100000e+03,\n",
       "         9.61125000e+02,  3.24500000e+02,  6.36062500e+02,\n",
       "         3.49375000e+01,  1.03750000e+01,  8.14118525e+06,\n",
       "         3.21847563e+05,  4.10625000e+01, -8.96875000e+01,\n",
       "         9.13375000e+02,  1.30750000e+02],\n",
       "       [ 1.30556900e+06,  6.76755581e+07,  6.97950000e+02,\n",
       "         7.34650000e+02,  2.28900000e+02,  5.05100000e+02,\n",
       "         2.46000000e+01,  7.10000000e+00,  1.47922365e+07,\n",
       "         8.90507500e+05,  1.10050000e+02, -1.69650000e+02,\n",
       "         6.75800000e+02,  2.79700000e+02],\n",
       "       [ 1.01896936e+06,  1.00461472e+07,  5.55090909e+02,\n",
       "         4.44954545e+02,  1.80136364e+02,  2.64681818e+02,\n",
       "         1.93636364e+01,  5.09090909e+00,  2.10969050e+06,\n",
       "         4.72398182e+04,  5.04545455e+00, -2.18636364e+01,\n",
       "         4.29000000e+02,  2.69090909e+01]])"
      ]
     },
     "execution_count": 64,
     "metadata": {},
     "output_type": "execute_result"
    }
   ],
   "source": [
    "kmeans.cluster_centers_"
   ]
  },
  {
   "cell_type": "code",
   "execution_count": 65,
   "metadata": {},
   "outputs": [
    {
     "data": {
      "text/plain": [
       "array([[40618664.40236305, 10049880.49633567, 69185956.01895007],\n",
       "       [39757811.80786658,  9188989.30488311, 68324945.35335054],\n",
       "       [38896971.56461038,  8328148.5695347 , 67463937.6785343 ],\n",
       "       [38036144.93497446,  7467376.21877448, 66602933.54649254],\n",
       "       [37175332.6442619 ,  6606698.6942905 , 65741932.87369418],\n",
       "       [36314535.50649538,  5746158.40039737, 64880935.58326156],\n",
       "       [35453686.62797651,  4885759.47347738, 64019842.22447319],\n",
       "       [34592856.21734307,  4025690.8640891 , 63158754.83627012],\n",
       "       [33732033.67764049,  3166208.25332276, 62297656.17662219],\n",
       "       [32871240.42496907,  2307995.72374325, 61436575.80954691],\n",
       "       [32010449.84537774,  1453257.36210415, 60575472.31915803],\n",
       "       [31149699.94298471,   616724.63866696, 59714399.85462125],\n",
       "       [30288947.73289896,   363222.13307805, 58853291.63762299],\n",
       "       [29428246.06066994,  1169076.68091556, 57992223.68128041],\n",
       "       [28567533.45324459,  2021104.7077021 , 57131100.590223  ],\n",
       "       [27706885.71987884,  2878563.38807204, 56270032.45161236],\n",
       "       [26846222.63339176,  3737769.75166406, 55408893.50840434],\n",
       "       [25985640.31418298,  4597682.96476181, 54547825.39957801],\n",
       "       [25125098.59461322,  5457990.52698589, 53686761.28351735],\n",
       "       [22911927.02139029,  7726685.75980834, 51495654.03150766],\n",
       "       [20715343.06670807,  9906652.35551367, 49299400.56698732],\n",
       "       [18563963.00593246, 12043035.86471145, 47148248.719514  ],\n",
       "       [16413416.44439451, 14187151.24001291, 44998037.2713501 ],\n",
       "       [14262869.85858977, 16333107.53311636, 42847750.72943459],\n",
       "       [12112592.46323509, 18480181.91293924, 40697680.36173829],\n",
       "       [ 9962285.892666  , 20628171.98945963, 38547358.10221018],\n",
       "       [ 7812210.98285431, 22776830.58615601, 36396902.7309702 ],\n",
       "       [ 5663240.46807687, 24925826.65152647, 34246800.70996447],\n",
       "       [ 3516836.56311059, 27075143.43099615, 32096841.89160906],\n",
       "       [ 1688949.35702554, 28880010.51495472, 30274447.64668687],\n",
       "       [  525296.2105503 , 30275919.77688298, 28867708.53657813],\n",
       "       [ 1101927.21092661, 31401604.9554592 , 27741129.56036434],\n",
       "       [ 2292438.55826748, 32811893.24393699, 26332230.94752359],\n",
       "       [ 3787388.8658261 , 34335540.42882802, 24810577.64839577],\n",
       "       [ 5305664.07868553, 35857699.99653156, 23288824.17211144],\n",
       "       [ 8336690.56361147, 38868063.84044271, 20384717.41665874],\n",
       "       [10120567.95039545, 40687148.7311492 , 18473051.73198424],\n",
       "       [11482977.3024605 , 42032857.03238212, 17114198.05339897],\n",
       "       [13248912.92328689, 43813493.97057712, 15346066.8682305 ],\n",
       "       [15012575.25909158, 45576745.89780788, 13584623.7054864 ],\n",
       "       [16874787.85535953, 47440475.09810632, 11729688.22081546],\n",
       "       [18731484.66004197, 49296767.66473546,  9877660.84562772],\n",
       "       [19560021.78885986, 50128304.47599351,  9082025.36477877],\n",
       "       [22261300.41608582, 52826951.41891994,  6457077.66250198],\n",
       "       [25105203.70288456, 55670399.99128322,  3804662.69835711],\n",
       "       [27029572.99837757, 57593100.67241727,  1681901.96524262],\n",
       "       [28491846.86881072, 59048096.97505258,   269263.77138969],\n",
       "       [29686807.90895784, 60237622.34969409,  1125566.30049544],\n",
       "       [31004235.35125162, 61558003.12654665,  2427119.46924889],\n",
       "       [31781949.98910785, 62322308.69763848,  3233422.95950298],\n",
       "       [32508529.82863504, 63047193.74078043,  3955892.7698033 ],\n",
       "       [33185470.18448692, 63721936.95755803,  4630987.48910532],\n",
       "       [33693303.59022185, 64223251.57456227,  5152677.11873459],\n",
       "       [34334499.76149138, 64866843.16378008,  5776445.23031423],\n",
       "       [34898342.32504639, 65425939.77505476,  6350438.09957376],\n",
       "       [35576282.04843339, 66104865.9428912 ,  7024561.46991568],\n",
       "       [36424735.25928677, 66955072.39151535,  7871662.97709055],\n",
       "       [37181219.06834033, 67706606.54395923,  8639095.62166799]])"
      ]
     },
     "execution_count": 65,
     "metadata": {},
     "output_type": "execute_result"
    }
   ],
   "source": [
    "distance = kmeans.fit_transform(xco2)\n",
    "distance"
   ]
  },
  {
   "cell_type": "code",
   "execution_count": 66,
   "metadata": {},
   "outputs": [],
   "source": [
    "labels = kmeans.labels_"
   ]
  },
  {
   "cell_type": "code",
   "execution_count": 67,
   "metadata": {},
   "outputs": [
    {
     "data": {
      "text/plain": [
       "array([1, 1, 1, 1, 1, 1, 1, 1, 1, 1, 1, 1, 1, 1, 1, 1, 1, 1, 1, 1, 1, 1,\n",
       "       1, 0, 0, 0, 0, 0, 0, 0, 0, 0, 0, 0, 0, 0, 0, 0, 0, 2, 2, 2, 2, 2,\n",
       "       2, 2, 2, 2, 2, 2, 2, 2, 2, 2, 2, 2, 2, 2], dtype=int32)"
      ]
     },
     "execution_count": 67,
     "metadata": {},
     "output_type": "execute_result"
    }
   ],
   "source": [
    "labels"
   ]
  },
  {
   "cell_type": "code",
   "execution_count": 68,
   "metadata": {},
   "outputs": [
    {
     "data": {
      "text/plain": [
       "array([[ 1.81398750e+06,  4.05815385e+07,  9.88500000e+02,\n",
       "         9.57437500e+02,  3.20437500e+02,  6.36375000e+02,\n",
       "         3.45000000e+01,  1.02500000e+01,  8.52212262e+06,\n",
       "         3.46654000e+05,  4.41875000e+01, -9.44375000e+01,\n",
       "         9.08062500e+02,  1.38625000e+02],\n",
       "       [ 1.06618809e+06,  1.06755463e+07,  5.80826087e+02,\n",
       "         4.67782609e+02,  1.88478261e+02,  2.79173913e+02,\n",
       "         2.02608696e+01,  5.39130435e+00,  2.24186430e+06,\n",
       "         5.11450435e+04,  5.65217391e+00, -2.32173913e+01,\n",
       "         4.51086957e+02,  2.88695652e+01],\n",
       "       [ 1.28279368e+06,  6.84192124e+07,  6.84842105e+02,\n",
       "         7.25368421e+02,  2.24789474e+02,  4.99947368e+02,\n",
       "         2.41578947e+01,  6.94736842e+00,  1.49789496e+07,\n",
       "         9.09273000e+05,  1.12210526e+02, -1.71789474e+02,\n",
       "         6.66526316e+02,  2.84000000e+02]])"
      ]
     },
     "execution_count": 68,
     "metadata": {},
     "output_type": "execute_result"
    }
   ],
   "source": [
    "kmeans.cluster_centers_"
   ]
  },
  {
   "cell_type": "code",
   "execution_count": 69,
   "metadata": {},
   "outputs": [
    {
     "name": "stdout",
     "output_type": "stream",
     "text": [
      "[[ 1.81398750e+06  4.05815385e+07  9.88500000e+02  9.57437500e+02\n",
      "   3.20437500e+02  6.36375000e+02  3.45000000e+01  1.02500000e+01\n",
      "   8.52212262e+06  3.46654000e+05  4.41875000e+01 -9.44375000e+01\n",
      "   9.08062500e+02  1.38625000e+02]\n",
      " [ 1.06618809e+06  1.06755463e+07  5.80826087e+02  4.67782609e+02\n",
      "   1.88478261e+02  2.79173913e+02  2.02608696e+01  5.39130435e+00\n",
      "   2.24186430e+06  5.11450435e+04  5.65217391e+00 -2.32173913e+01\n",
      "   4.51086957e+02  2.88695652e+01]\n",
      " [ 1.28279368e+06  6.84192124e+07  6.84842105e+02  7.25368421e+02\n",
      "   2.24789474e+02  4.99947368e+02  2.41578947e+01  6.94736842e+00\n",
      "   1.49789496e+07  9.09273000e+05  1.12210526e+02 -1.71789474e+02\n",
      "   6.66526316e+02  2.84000000e+02]]\n"
     ]
    }
   ],
   "source": [
    "print(kmeans.cluster_centers_)"
   ]
  },
  {
   "cell_type": "code",
   "execution_count": 75,
   "metadata": {},
   "outputs": [
    {
     "name": "stderr",
     "output_type": "stream",
     "text": [
      "No handles with labels found to put in legend.\n"
     ]
    },
    {
     "data": {
      "image/png": "[encoded data removed]",
      "text/plain": [
       "<Figure size 432x288 with 1 Axes>"
      ]
     },
     "metadata": {},
     "output_type": "display_data"
    }
   ],
   "source": [
    "import matplotlib.pyplot as plt\n",
    "plt.scatter(xco2[:, 0], xco2[:,5], s = 100, c = kmeans.labels_)\n",
    "plt.scatter(kmeans.cluster_centers_[:, 0], kmeans.cluster_centers_[:, 5], s = 50, c = 'red')\n",
    "plt.title('Emissão de CO2 por ano')\n",
    "plt.xlabel('Area desmatada Km²')\n",
    "plt.ylabel('Emissão de CO2 2ª Ordem por queimadas')\n",
    "plt.legend()\n",
    "plt.show()"
   ]
  },
  {
   "cell_type": "code",
   "execution_count": 71,
   "metadata": {},
   "outputs": [
    {
     "name": "stderr",
     "output_type": "stream",
     "text": [
      "No handles with labels found to put in legend.\n"
     ]
    },
    {
     "data": {
      "image/png": "[encoded data removed]",
      "text/plain": [
       "<Figure size 432x288 with 1 Axes>"
      ]
     },
     "metadata": {},
     "output_type": "display_data"
    }
   ],
   "source": [
    "import matplotlib.pyplot as plt\n",
    "plt.scatter(xco2[:, 1], xco2[:,2], s = 100, c = kmeans.labels_)\n",
    "plt.scatter(kmeans.cluster_centers_[:, 1], kmeans.cluster_centers_[:, 2], s = 50, c = 'red')\n",
    "plt.title('Customer Clusters and Centroids')\n",
    "plt.xlabel('M5')\n",
    "plt.ylabel('Purchase')\n",
    "plt.legend()\n",
    "plt.show()"
   ]
  },
  {
   "cell_type": "code",
   "execution_count": 72,
   "metadata": {},
   "outputs": [
    {
     "name": "stdout",
     "output_type": "stream",
     "text": [
      "1 3.957954505066613e+16\n",
      "2 8043311858475286.0\n",
      "3 3045731312015958.0\n",
      "4 1730172361688736.5\n",
      "5 1066099839825644.1\n",
      "6 721394473960136.5\n",
      "7 568576387883905.8\n",
      "8 421429150841935.6\n",
      "9 346745101122184.9\n",
      "10 304474120071402.4\n"
     ]
    },
    {
     "data": {
      "image/png": "[encoded data removed]",
      "text/plain": [
       "<Figure size 432x288 with 1 Axes>"
      ]
     },
     "metadata": {},
     "output_type": "display_data"
    }
   ],
   "source": [
    "# Metododo de Elbow: como encontrar valor ideal de K ?\n",
    "# Basicamente o que o método faz é testar a variância dos dados em relação ao número de clu\n",
    "# O que percebemos no Gráfico abaixo?\n",
    "# Soma dos erros quadráticos de cada cluster (WCSS) cai e se estabiliza, à medida que aumen\n",
    "import matplotlib.pyplot as plt\n",
    "wcss = []\n",
    "maxclusters = 11\n",
    "for i in range(1, maxclusters):\n",
    "    kmeans = KMeans(n_clusters = i, init = 'random')\n",
    "    kmeans.fit(xco2)\n",
    "    print (i,kmeans.inertia_)\n",
    "    wcss.append(kmeans.inertia_)\n",
    "plt.plot(range(1, maxclusters), wcss)\n",
    "plt.title('O Metodo Elbow')\n",
    "plt.xlabel('Qtde, de Clusters')\n",
    "plt.ylabel('WCSS') #within cluster sum of squares\n",
    "plt.show()"
   ]
  },
  {
   "cell_type": "code",
   "execution_count": null,
   "metadata": {},
   "outputs": [],
   "source": []
  }
 ],
 "metadata": {
  "kernelspec": {
   "display_name": "Python 3",
   "language": "python",
   "name": "python3"
  },
  "language_info": {
   "codemirror_mode": {
    "name": "ipython",
    "version": 3
   },
   "file_extension": ".py",
   "mimetype": "text/x-python",
   "name": "python",
   "nbconvert_exporter": "python",
   "pygments_lexer": "ipython3",
   "version": "3.6.7"
  }
 },
 "nbformat": 4,
 "nbformat_minor": 2
}
